{
  "nbformat": 4,
  "nbformat_minor": 0,
  "metadata": {
    "kernelspec": {
      "display_name": "Python 3",
      "language": "python",
      "name": "python3"
    },
    "language_info": {
      "codemirror_mode": {
        "name": "ipython",
        "version": 3
      },
      "file_extension": ".py",
      "mimetype": "text/x-python",
      "name": "python",
      "nbconvert_exporter": "python",
      "pygments_lexer": "ipython3",
      "version": "3.7.2"
    },
    "colab": {
      "name": "Prova_AV2_Gestão_do_Conhecimento.ipynb",
      "provenance": [],
      "collapsed_sections": [],
      "include_colab_link": true
    }
  },
  "cells": [
    {
      "cell_type": "markdown",
      "metadata": {
        "id": "view-in-github",
        "colab_type": "text"
      },
      "source": [
        "<a href=\"https://colab.research.google.com/github/abnerdaniel/AV1-WDC/blob/main/Prova_AV2_Gest%C3%A3o_do_Conhecimento.ipynb\" target=\"_parent\"><img src=\"https://colab.research.google.com/assets/colab-badge.svg\" alt=\"Open In Colab\"/></a>"
      ]
    },
    {
      "cell_type": "markdown",
      "metadata": {
        "id": "8e6IcCsJCxVz"
      },
      "source": [
        "DISCIPLINA: Gestão do Conhecimento\t PROFESSOR(A): Alex Salgado\n",
        "PERÍODO: 7o. TURNO: noite AVALIAÇÃO:\n",
        "\n",
        "ALUNO(A): Abner Daniel Olegario de Abreu\n",
        "\n",
        "GRAU: VISTO DO PROFESSOR:\n"
      ]
    },
    {
      "cell_type": "markdown",
      "metadata": {
        "id": "_3h1pahVCxV2"
      },
      "source": [
        "# Questão 1 - valor (0,0)\n"
      ]
    },
    {
      "cell_type": "markdown",
      "metadata": {
        "id": "A-cj5d2rCxV3"
      },
      "source": [
        "*** Crie um repositório no Github e adicione este arquivo no mesmo\n",
        "\n",
        "\n",
        "1.1 - Você deve escolher uma base de dados do Kaggle.\n",
        "\n",
        "A natureza desse dataset deve se encaixar em um problema que podemos resolver utilizando modelos de previsão de machine learning supervisionado de classificação. \n",
        "\n",
        "A partir desta base de dados do Kaggle, você vai treinar o modelo, fazer previsões e calcular a acurácia do mesmo, usando modelos e algoritmos que desejar.\n",
        "\n",
        "Obs1: Usar o Kaggle como fonte para o seu dataset obrigatoriamente.\n",
        "Obs2: Implementações idênticas ou bem parecidas pode levar a anulação da NOTA ou seja, ZERO!! Faça o melhor com sua equipe apenas.\n"
      ]
    },
    {
      "cell_type": "markdown",
      "metadata": {
        "id": "3P5uSWxsDb5r"
      },
      "source": [
        "1.1 - Coloque aqui o link para o seu dataset escolhido no Kaggle.\n",
        "\n"
      ]
    },
    {
      "cell_type": "code",
      "metadata": {
        "id": "E5KjBhtQ0tT5"
      },
      "source": [
        "https://www.kaggle.com/gregorut/videogamesales"
      ],
      "execution_count": null,
      "outputs": []
    },
    {
      "cell_type": "markdown",
      "metadata": {
        "id": "9ZAK23bp0uiv"
      },
      "source": [
        "1.1.1 - Descreva sobre o que é base de dados."
      ]
    },
    {
      "cell_type": "code",
      "metadata": {
        "id": "GJXzGjne0xc3"
      },
      "source": [
        "Essa base contem uma lista de Jogos de consoles com vendas superiores a 100k"
      ],
      "execution_count": null,
      "outputs": []
    },
    {
      "cell_type": "markdown",
      "metadata": {
        "id": "PikuHGzs0xrS"
      },
      "source": [
        "1.1.2 - Se você fez em grupo, quais os nomes dos componentes do seu grupo?"
      ]
    },
    {
      "cell_type": "code",
      "metadata": {
        "id": "CWD182zJCxV4"
      },
      "source": [
        "Abner Daniel Olegario de Abreu"
      ],
      "execution_count": null,
      "outputs": []
    },
    {
      "cell_type": "markdown",
      "metadata": {
        "id": "a-D7KRIzCxV8"
      },
      "source": [
        "1.2 - Após tratada, criar uma pasta no seu GoogleDrive e disponibilizar o link do arquivo de sua base (csv, xlsx, etc) para ser importado no seu código."
      ]
    },
    {
      "cell_type": "code",
      "metadata": {
        "id": "lT8fVn5TCxV8"
      },
      "source": [
        "https://drive.google.com/file/d/1JOWr2a7KDsd2phz7hb_tAfO9cExrDlMm/view?usp=sharing"
      ],
      "execution_count": null,
      "outputs": []
    },
    {
      "cell_type": "markdown",
      "metadata": {
        "id": "lvPXgDBDCxV_"
      },
      "source": [
        "## Criar um código usando o Jupyter Notebook e responder (através de código) às seguintes questões:\n"
      ]
    },
    {
      "cell_type": "markdown",
      "metadata": {
        "id": "LMkAEsOKCxWA"
      },
      "source": [
        "# Questão 2 - valor (1,5)"
      ]
    },
    {
      "cell_type": "markdown",
      "metadata": {
        "id": "yOSNQel0CxWA"
      },
      "source": [
        "2.1 - Importar os modulos python para machine learn e carregar o arquivo \n",
        "\n",
        "** Sugestão se for do tipo xlsx, usar o read_excel do pandas\n",
        "import pandas as pd\n",
        "dt = pd.read_excel(\"meuarquivo.xlsx\")\n"
      ]
    },
    {
      "cell_type": "code",
      "metadata": {
        "id": "zA6l-qg9CxWB"
      },
      "source": [
        "import pandas as pd"
      ],
      "execution_count": 28,
      "outputs": []
    },
    {
      "cell_type": "code",
      "metadata": {
        "id": "IpL-JWcVRdCX"
      },
      "source": [
        "df_game = pd.read_csv('/content/drive/MyDrive/Colab Notebooks/vgsales3.csv')\n",
        "df_game2 = pd.read_csv('/content/drive/MyDrive/Colab Notebooks/vgsales4.csv')"
      ],
      "execution_count": 83,
      "outputs": []
    },
    {
      "cell_type": "markdown",
      "metadata": {
        "id": "_NIYxnZnCxWD"
      },
      "source": [
        "2.2 - Exibir os primeiros registros desta tabela.\n"
      ]
    },
    {
      "cell_type": "code",
      "metadata": {
        "id": "owd5CVN9CxWE",
        "colab": {
          "base_uri": "https://localhost:8080/",
          "height": 258
        },
        "outputId": "27940cef-1db4-4b72-de04-1c08e70db06b"
      },
      "source": [
        "df_game.head()"
      ],
      "execution_count": 33,
      "outputs": [
        {
          "output_type": "execute_result",
          "data": {
            "text/html": [
              "<div>\n",
              "<style scoped>\n",
              "    .dataframe tbody tr th:only-of-type {\n",
              "        vertical-align: middle;\n",
              "    }\n",
              "\n",
              "    .dataframe tbody tr th {\n",
              "        vertical-align: top;\n",
              "    }\n",
              "\n",
              "    .dataframe thead th {\n",
              "        text-align: right;\n",
              "    }\n",
              "</style>\n",
              "<table border=\"1\" class=\"dataframe\">\n",
              "  <thead>\n",
              "    <tr style=\"text-align: right;\">\n",
              "      <th></th>\n",
              "      <th>Rank</th>\n",
              "      <th>Name</th>\n",
              "      <th>5</th>\n",
              "      <th>Year</th>\n",
              "      <th>Genre</th>\n",
              "      <th>Publisher</th>\n",
              "      <th>NA_Sales</th>\n",
              "      <th>EU_Sales</th>\n",
              "      <th>JP_Sales</th>\n",
              "      <th>Other_Sales</th>\n",
              "      <th>Global_Sales</th>\n",
              "    </tr>\n",
              "  </thead>\n",
              "  <tbody>\n",
              "    <tr>\n",
              "      <th>0</th>\n",
              "      <td>1</td>\n",
              "      <td>Wii Sports</td>\n",
              "      <td>Wii</td>\n",
              "      <td>2006.0</td>\n",
              "      <td>11</td>\n",
              "      <td>Nintendo</td>\n",
              "      <td>41.49</td>\n",
              "      <td>29.02</td>\n",
              "      <td>3.77</td>\n",
              "      <td>8.46</td>\n",
              "      <td>82.74</td>\n",
              "    </tr>\n",
              "    <tr>\n",
              "      <th>1</th>\n",
              "      <td>2</td>\n",
              "      <td>Super Mario Bros.</td>\n",
              "      <td>NES</td>\n",
              "      <td>1985.0</td>\n",
              "      <td>5</td>\n",
              "      <td>Nintendo</td>\n",
              "      <td>29.08</td>\n",
              "      <td>3.58</td>\n",
              "      <td>6.81</td>\n",
              "      <td>0.77</td>\n",
              "      <td>40.24</td>\n",
              "    </tr>\n",
              "    <tr>\n",
              "      <th>2</th>\n",
              "      <td>3</td>\n",
              "      <td>Mario Kart Wii</td>\n",
              "      <td>Wii</td>\n",
              "      <td>2008.0</td>\n",
              "      <td>7</td>\n",
              "      <td>Nintendo</td>\n",
              "      <td>15.85</td>\n",
              "      <td>12.88</td>\n",
              "      <td>3.79</td>\n",
              "      <td>3.31</td>\n",
              "      <td>35.82</td>\n",
              "    </tr>\n",
              "    <tr>\n",
              "      <th>3</th>\n",
              "      <td>4</td>\n",
              "      <td>Wii Sports Resort</td>\n",
              "      <td>Wii</td>\n",
              "      <td>2009.0</td>\n",
              "      <td>11</td>\n",
              "      <td>Nintendo</td>\n",
              "      <td>15.75</td>\n",
              "      <td>11.01</td>\n",
              "      <td>3.28</td>\n",
              "      <td>2.96</td>\n",
              "      <td>33.00</td>\n",
              "    </tr>\n",
              "    <tr>\n",
              "      <th>4</th>\n",
              "      <td>5</td>\n",
              "      <td>Pokemon Red/Pokemon Blue</td>\n",
              "      <td>GB</td>\n",
              "      <td>1996.0</td>\n",
              "      <td>8</td>\n",
              "      <td>Nintendo</td>\n",
              "      <td>11.27</td>\n",
              "      <td>8.89</td>\n",
              "      <td>10.22</td>\n",
              "      <td>1.00</td>\n",
              "      <td>31.37</td>\n",
              "    </tr>\n",
              "  </tbody>\n",
              "</table>\n",
              "</div>"
            ],
            "text/plain": [
              "   Rank                      Name    5  ...  JP_Sales  Other_Sales Global_Sales\n",
              "0     1                Wii Sports  Wii  ...      3.77         8.46        82.74\n",
              "1     2         Super Mario Bros.  NES  ...      6.81         0.77        40.24\n",
              "2     3            Mario Kart Wii  Wii  ...      3.79         3.31        35.82\n",
              "3     4         Wii Sports Resort  Wii  ...      3.28         2.96        33.00\n",
              "4     5  Pokemon Red/Pokemon Blue   GB  ...     10.22         1.00        31.37\n",
              "\n",
              "[5 rows x 11 columns]"
            ]
          },
          "metadata": {},
          "execution_count": 33
        }
      ]
    },
    {
      "cell_type": "markdown",
      "metadata": {
        "id": "ROM2Hy1CCxWG"
      },
      "source": [
        "2.3 - De que se trata esse banco de dados? e que tipo de previsão pode ser feito com ele?\n"
      ]
    },
    {
      "cell_type": "code",
      "metadata": {
        "id": "Xh68K5SjCxWH"
      },
      "source": [
        "Trata-se de dados de venda de jogos por generos e popularidade em cada continente.\n",
        "Da para prever quais generos tem chance de fazer mais sucesso por continente. \n"
      ],
      "execution_count": null,
      "outputs": []
    },
    {
      "cell_type": "markdown",
      "metadata": {
        "id": "1lCf85KKCxWJ"
      },
      "source": [
        "# Questão 3 - valor (2,5)\n"
      ]
    },
    {
      "cell_type": "markdown",
      "metadata": {
        "id": "isyZsq2NCxWK"
      },
      "source": [
        "Utilizando as terminologias de Machine Learning(features e observações):\n",
        "\n"
      ]
    },
    {
      "cell_type": "markdown",
      "metadata": {
        "id": "pbuaWyeECxWL"
      },
      "source": [
        "3.1 - Quantas \"features\" têm nessa base de dados?"
      ]
    },
    {
      "cell_type": "code",
      "metadata": {
        "id": "MY5Xwd0gCxWL"
      },
      "source": [
        "5"
      ],
      "execution_count": null,
      "outputs": []
    },
    {
      "cell_type": "markdown",
      "metadata": {
        "id": "RtwxkASmCxWN"
      },
      "source": [
        "3.2 - Quantas observações têm nessa base de dados?\n"
      ]
    },
    {
      "cell_type": "code",
      "metadata": {
        "id": "yN1QNvh-CxWO"
      },
      "source": [
        "16,598"
      ],
      "execution_count": null,
      "outputs": []
    },
    {
      "cell_type": "markdown",
      "metadata": {
        "id": "tcAYZJP8zlX3"
      },
      "source": [
        "3.3 - Separe o que é entrada (features) do seu dataset na variável X, e exiba."
      ]
    },
    {
      "cell_type": "code",
      "metadata": {
        "id": "sntqiY6UzuaT",
        "colab": {
          "base_uri": "https://localhost:8080/",
          "height": 423
        },
        "outputId": "59fbbcc4-fbaa-4294-e07e-fcbead1b8e83"
      },
      "source": [
        "X = df_game[df_game.columns[6:10].tolist()]\n",
        "X"
      ],
      "execution_count": 120,
      "outputs": [
        {
          "output_type": "execute_result",
          "data": {
            "text/html": [
              "<div>\n",
              "<style scoped>\n",
              "    .dataframe tbody tr th:only-of-type {\n",
              "        vertical-align: middle;\n",
              "    }\n",
              "\n",
              "    .dataframe tbody tr th {\n",
              "        vertical-align: top;\n",
              "    }\n",
              "\n",
              "    .dataframe thead th {\n",
              "        text-align: right;\n",
              "    }\n",
              "</style>\n",
              "<table border=\"1\" class=\"dataframe\">\n",
              "  <thead>\n",
              "    <tr style=\"text-align: right;\">\n",
              "      <th></th>\n",
              "      <th>NA_Sales</th>\n",
              "      <th>EU_Sales</th>\n",
              "      <th>JP_Sales</th>\n",
              "      <th>Other_Sales</th>\n",
              "    </tr>\n",
              "  </thead>\n",
              "  <tbody>\n",
              "    <tr>\n",
              "      <th>0</th>\n",
              "      <td>41.49</td>\n",
              "      <td>29.02</td>\n",
              "      <td>3.77</td>\n",
              "      <td>8.46</td>\n",
              "    </tr>\n",
              "    <tr>\n",
              "      <th>1</th>\n",
              "      <td>29.08</td>\n",
              "      <td>3.58</td>\n",
              "      <td>6.81</td>\n",
              "      <td>0.77</td>\n",
              "    </tr>\n",
              "    <tr>\n",
              "      <th>2</th>\n",
              "      <td>15.85</td>\n",
              "      <td>12.88</td>\n",
              "      <td>3.79</td>\n",
              "      <td>3.31</td>\n",
              "    </tr>\n",
              "    <tr>\n",
              "      <th>3</th>\n",
              "      <td>15.75</td>\n",
              "      <td>11.01</td>\n",
              "      <td>3.28</td>\n",
              "      <td>2.96</td>\n",
              "    </tr>\n",
              "    <tr>\n",
              "      <th>4</th>\n",
              "      <td>11.27</td>\n",
              "      <td>8.89</td>\n",
              "      <td>10.22</td>\n",
              "      <td>1.00</td>\n",
              "    </tr>\n",
              "    <tr>\n",
              "      <th>...</th>\n",
              "      <td>...</td>\n",
              "      <td>...</td>\n",
              "      <td>...</td>\n",
              "      <td>...</td>\n",
              "    </tr>\n",
              "    <tr>\n",
              "      <th>16593</th>\n",
              "      <td>0.01</td>\n",
              "      <td>0.00</td>\n",
              "      <td>0.00</td>\n",
              "      <td>0.00</td>\n",
              "    </tr>\n",
              "    <tr>\n",
              "      <th>16594</th>\n",
              "      <td>0.01</td>\n",
              "      <td>0.00</td>\n",
              "      <td>0.00</td>\n",
              "      <td>0.00</td>\n",
              "    </tr>\n",
              "    <tr>\n",
              "      <th>16595</th>\n",
              "      <td>0.00</td>\n",
              "      <td>0.00</td>\n",
              "      <td>0.00</td>\n",
              "      <td>0.00</td>\n",
              "    </tr>\n",
              "    <tr>\n",
              "      <th>16596</th>\n",
              "      <td>0.00</td>\n",
              "      <td>0.01</td>\n",
              "      <td>0.00</td>\n",
              "      <td>0.00</td>\n",
              "    </tr>\n",
              "    <tr>\n",
              "      <th>16597</th>\n",
              "      <td>0.01</td>\n",
              "      <td>0.00</td>\n",
              "      <td>0.00</td>\n",
              "      <td>0.00</td>\n",
              "    </tr>\n",
              "  </tbody>\n",
              "</table>\n",
              "<p>16598 rows × 4 columns</p>\n",
              "</div>"
            ],
            "text/plain": [
              "       NA_Sales  EU_Sales  JP_Sales  Other_Sales\n",
              "0         41.49     29.02      3.77         8.46\n",
              "1         29.08      3.58      6.81         0.77\n",
              "2         15.85     12.88      3.79         3.31\n",
              "3         15.75     11.01      3.28         2.96\n",
              "4         11.27      8.89     10.22         1.00\n",
              "...         ...       ...       ...          ...\n",
              "16593      0.01      0.00      0.00         0.00\n",
              "16594      0.01      0.00      0.00         0.00\n",
              "16595      0.00      0.00      0.00         0.00\n",
              "16596      0.00      0.01      0.00         0.00\n",
              "16597      0.01      0.00      0.00         0.00\n",
              "\n",
              "[16598 rows x 4 columns]"
            ]
          },
          "metadata": {},
          "execution_count": 120
        }
      ]
    },
    {
      "cell_type": "markdown",
      "metadata": {
        "id": "FkA2G20zzvHX"
      },
      "source": [
        "3.4 - Separe o que é saída (target/resposta) do seu dataset na variável y, e exiba."
      ]
    },
    {
      "cell_type": "code",
      "metadata": {
        "id": "scWmkISnzj3i",
        "colab": {
          "base_uri": "https://localhost:8080/",
          "height": 423
        },
        "outputId": "1db53415-9d92-4fe2-cca4-0beb36c50333"
      },
      "source": [
        "y = df_game[df_game.columns[4:5].tolist()]\n",
        "yn = df_game2[df_game2.columns[4:5].tolist()]\n",
        "yn"
      ],
      "execution_count": 121,
      "outputs": [
        {
          "output_type": "execute_result",
          "data": {
            "text/html": [
              "<div>\n",
              "<style scoped>\n",
              "    .dataframe tbody tr th:only-of-type {\n",
              "        vertical-align: middle;\n",
              "    }\n",
              "\n",
              "    .dataframe tbody tr th {\n",
              "        vertical-align: top;\n",
              "    }\n",
              "\n",
              "    .dataframe thead th {\n",
              "        text-align: right;\n",
              "    }\n",
              "</style>\n",
              "<table border=\"1\" class=\"dataframe\">\n",
              "  <thead>\n",
              "    <tr style=\"text-align: right;\">\n",
              "      <th></th>\n",
              "      <th>Genre</th>\n",
              "    </tr>\n",
              "  </thead>\n",
              "  <tbody>\n",
              "    <tr>\n",
              "      <th>0</th>\n",
              "      <td>Sports</td>\n",
              "    </tr>\n",
              "    <tr>\n",
              "      <th>1</th>\n",
              "      <td>Platform</td>\n",
              "    </tr>\n",
              "    <tr>\n",
              "      <th>2</th>\n",
              "      <td>Racing</td>\n",
              "    </tr>\n",
              "    <tr>\n",
              "      <th>3</th>\n",
              "      <td>Sports</td>\n",
              "    </tr>\n",
              "    <tr>\n",
              "      <th>4</th>\n",
              "      <td>Role-Playing</td>\n",
              "    </tr>\n",
              "    <tr>\n",
              "      <th>...</th>\n",
              "      <td>...</td>\n",
              "    </tr>\n",
              "    <tr>\n",
              "      <th>16593</th>\n",
              "      <td>Platform</td>\n",
              "    </tr>\n",
              "    <tr>\n",
              "      <th>16594</th>\n",
              "      <td>Shooter</td>\n",
              "    </tr>\n",
              "    <tr>\n",
              "      <th>16595</th>\n",
              "      <td>Racing</td>\n",
              "    </tr>\n",
              "    <tr>\n",
              "      <th>16596</th>\n",
              "      <td>Puzzle</td>\n",
              "    </tr>\n",
              "    <tr>\n",
              "      <th>16597</th>\n",
              "      <td>Platform</td>\n",
              "    </tr>\n",
              "  </tbody>\n",
              "</table>\n",
              "<p>16598 rows × 1 columns</p>\n",
              "</div>"
            ],
            "text/plain": [
              "              Genre\n",
              "0            Sports\n",
              "1          Platform\n",
              "2            Racing\n",
              "3            Sports\n",
              "4      Role-Playing\n",
              "...             ...\n",
              "16593      Platform\n",
              "16594       Shooter\n",
              "16595        Racing\n",
              "16596        Puzzle\n",
              "16597      Platform\n",
              "\n",
              "[16598 rows x 1 columns]"
            ]
          },
          "metadata": {},
          "execution_count": 121
        }
      ]
    },
    {
      "cell_type": "markdown",
      "metadata": {
        "id": "AudYWfr1CxWQ"
      },
      "source": [
        "# Questão 4 - valor (1,5)\n"
      ]
    },
    {
      "cell_type": "markdown",
      "metadata": {
        "id": "pJxRMc1HCxWR"
      },
      "source": [
        "4.1 - Utilizando a sua base, faça um treinamento e uma previsão, usando o algoritmo de clsssificação de sua escolha.\n"
      ]
    },
    {
      "cell_type": "code",
      "metadata": {
        "colab": {
          "base_uri": "https://localhost:8080/"
        },
        "id": "fe0nBv5fPSfW",
        "outputId": "07cebb0d-0708-4f3b-9a93-bbf584ace7e3"
      },
      "source": [
        "from sklearn.neighbors import NearestCentroid\n",
        "clf = NearestCentroid()\n",
        "clf.fit(X, yn)"
      ],
      "execution_count": 102,
      "outputs": [
        {
          "output_type": "stream",
          "name": "stderr",
          "text": [
            "/usr/local/lib/python3.7/dist-packages/sklearn/utils/validation.py:985: DataConversionWarning: A column-vector y was passed when a 1d array was expected. Please change the shape of y to (n_samples, ), for example using ravel().\n",
            "  y = column_or_1d(y, warn=True)\n"
          ]
        },
        {
          "output_type": "execute_result",
          "data": {
            "text/plain": [
              "NearestCentroid()"
            ]
          },
          "metadata": {},
          "execution_count": 102
        }
      ]
    },
    {
      "cell_type": "code",
      "metadata": {
        "colab": {
          "base_uri": "https://localhost:8080/"
        },
        "id": "hxguypozQH8N",
        "outputId": "3ba42449-25ff-4b98-dfa1-2e9688b19618"
      },
      "source": [
        "clf.predict([[0,7.49,0,0],[2.49,7.49,41.49,3.49],[29.08,03.58,6.81,3.49]])"
      ],
      "execution_count": 103,
      "outputs": [
        {
          "output_type": "stream",
          "name": "stderr",
          "text": [
            "/usr/local/lib/python3.7/dist-packages/sklearn/base.py:446: UserWarning: X does not have valid feature names, but NearestCentroid was fitted with feature names\n",
            "  \"X does not have valid feature names, but\"\n"
          ]
        },
        {
          "output_type": "execute_result",
          "data": {
            "text/plain": [
              "array(['Shooter', 'Role-Playing', 'Platform'], dtype=object)"
            ]
          },
          "metadata": {},
          "execution_count": 103
        }
      ]
    },
    {
      "cell_type": "markdown",
      "metadata": {
        "id": "QpAa6P9ndIQ8"
      },
      "source": [
        "#### Genero do jogo: ***['Shooter', 'Role-Playing', 'Platform']***"
      ]
    },
    {
      "cell_type": "markdown",
      "metadata": {
        "id": "xbpLvAhTCxWU"
      },
      "source": [
        "# Questão 5 - valor (1,5)\n",
        "\n",
        "\n",
        "\n"
      ]
    },
    {
      "cell_type": "markdown",
      "metadata": {
        "id": "cp4fWsL7CxWU"
      },
      "source": [
        "Usando o método de avaliação de acurácia (Train test split), Escolha outros 2 algoritmos de classificação e calcule a acurácia dos mesmos."
      ]
    },
    {
      "cell_type": "markdown",
      "metadata": {
        "id": "mNmy44xfCxWY"
      },
      "source": [
        "5.2 - Acurácia usando o algoritmo 1 ?\n"
      ]
    },
    {
      "cell_type": "code",
      "metadata": {
        "id": "caGkCtYGCxWY",
        "colab": {
          "base_uri": "https://localhost:8080/"
        },
        "outputId": "0030a2e5-f266-4dd8-9770-4c5efb39ae3b"
      },
      "source": [
        "knn = KNeighborsClassifier(n_neighbors=1)\n",
        "knn.fit(X, y)\n",
        "y_pred = knn.predict(X)\n",
        "# Acurácia\n",
        "from sklearn import metrics\n",
        "print(metrics.accuracy_score(y, y_pred))"
      ],
      "execution_count": 134,
      "outputs": [
        {
          "output_type": "stream",
          "name": "stderr",
          "text": [
            "/usr/local/lib/python3.7/dist-packages/sklearn/neighbors/_classification.py:198: DataConversionWarning: A column-vector y was passed when a 1d array was expected. Please change the shape of y to (n_samples,), for example using ravel().\n",
            "  return self._fit(X, y)\n"
          ]
        },
        {
          "output_type": "stream",
          "name": "stdout",
          "text": [
            "0.44788528738402217\n"
          ]
        }
      ]
    },
    {
      "cell_type": "markdown",
      "metadata": {
        "id": "3xUZm_JICxWa"
      },
      "source": [
        "5.3 - Acurácia usando o algoritmo 2 ?\n",
        "\n",
        "\n",
        "\n"
      ]
    },
    {
      "cell_type": "code",
      "metadata": {
        "colab": {
          "base_uri": "https://localhost:8080/"
        },
        "id": "z29SkWRZ0Rx6",
        "outputId": "899c0164-c5e3-495b-e2df-515f52cfa0b0"
      },
      "source": [
        "from sklearn.linear_model import LogisticRegression\n",
        "logreg = LogisticRegression(solver='liblinear')\n",
        "logreg.fit(X, y)\n",
        "knn = KNeighborsClassifier(n_neighbors=1)\n",
        "knn.fit(X, y)\n",
        "y_pred = knn.predict(X)"
      ],
      "execution_count": 132,
      "outputs": [
        {
          "output_type": "stream",
          "name": "stderr",
          "text": [
            "/usr/local/lib/python3.7/dist-packages/sklearn/utils/validation.py:985: DataConversionWarning: A column-vector y was passed when a 1d array was expected. Please change the shape of y to (n_samples, ), for example using ravel().\n",
            "  y = column_or_1d(y, warn=True)\n",
            "/usr/local/lib/python3.7/dist-packages/sklearn/neighbors/_classification.py:198: DataConversionWarning: A column-vector y was passed when a 1d array was expected. Please change the shape of y to (n_samples,), for example using ravel().\n",
            "  return self._fit(X, y)\n"
          ]
        }
      ]
    },
    {
      "cell_type": "code",
      "metadata": {
        "id": "VvAgNcVsCxWb",
        "colab": {
          "base_uri": "https://localhost:8080/"
        },
        "outputId": "ab8628cc-d87d-43c3-c091-54a1d5f450e3"
      },
      "source": [
        "from sklearn import metrics\n",
        "knn = KNeighborsClassifier(n_neighbors=2)\n",
        "knn.fit(X, y)\n",
        "y_pred = knn.predict(X)\n",
        "print(metrics.accuracy_score(y, y_pred))"
      ],
      "execution_count": 133,
      "outputs": [
        {
          "output_type": "stream",
          "name": "stderr",
          "text": [
            "/usr/local/lib/python3.7/dist-packages/sklearn/neighbors/_classification.py:198: DataConversionWarning: A column-vector y was passed when a 1d array was expected. Please change the shape of y to (n_samples,), for example using ravel().\n",
            "  return self._fit(X, y)\n"
          ]
        },
        {
          "output_type": "stream",
          "name": "stdout",
          "text": [
            "0.3300397638269671\n"
          ]
        }
      ]
    },
    {
      "cell_type": "markdown",
      "metadata": {
        "id": "8FkyIUHbCxWd"
      },
      "source": [
        "5.4 - De acordo com seus resultados anteriores, qual dos 2 algoritmos é mais eficiente?\n"
      ]
    },
    {
      "cell_type": "code",
      "metadata": {
        "id": "K0AE8XQ1CxWd"
      },
      "source": [
        ""
      ],
      "execution_count": null,
      "outputs": []
    },
    {
      "cell_type": "markdown",
      "metadata": {
        "id": "QIAfJToiy77F"
      },
      "source": [
        "# Questão 6 - valor (1,5)\n",
        "\n"
      ]
    },
    {
      "cell_type": "markdown",
      "metadata": {
        "id": "Is2wXGy3ySgF"
      },
      "source": [
        "6 - Faça um visualização auto-explicativa da sua base de dados utilizando o matplotlib. Coloque o código e a visualização abaixo.\n"
      ]
    },
    {
      "cell_type": "code",
      "metadata": {
        "id": "GU_eXCbzob_L"
      },
      "source": [
        "X1 = x\n",
        "y1 = y\n"
      ],
      "execution_count": 122,
      "outputs": []
    },
    {
      "cell_type": "code",
      "metadata": {
        "id": "zRDUIRloCxWf"
      },
      "source": [
        "*** Envie o link do seu Github com essa resposta no Classroom\n"
      ],
      "execution_count": null,
      "outputs": []
    }
  ]
}